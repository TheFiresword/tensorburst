{
 "cells": [
  {
   "cell_type": "code",
   "execution_count": 1,
   "metadata": {},
   "outputs": [],
   "source": [
    "from my_ai_utils import *\n",
    "import keras\n",
    "import tensorflow as tf"
   ]
  },
  {
   "cell_type": "code",
   "execution_count": 2,
   "metadata": {},
   "outputs": [],
   "source": [
    "# Example input data\n",
    "batch_size = 20\n",
    "input_size = 4\n",
    "output_size = 3\n",
    "\n",
    "X = np.random.randn(batch_size, input_size).astype(np.float32)\n",
    "y = np.random.randn(batch_size, output_size).astype(np.float32)"
   ]
  },
  {
   "cell_type": "code",
   "execution_count": 3,
   "metadata": {},
   "outputs": [
    {
     "name": "stdout",
     "output_type": "stream",
     "text": [
      "[array([[-0.19376117,  0.5165348 ,  0.12137866],\n",
      "       [ 0.5977504 , -0.16174674,  0.02624691],\n",
      "       [ 0.5346416 , -0.4416696 , -0.11375374],\n",
      "       [-0.6169945 ,  0.7592577 ,  0.28805995]], dtype=float32), array([0., 0., 0.], dtype=float32)]\n"
     ]
    }
   ],
   "source": [
    "# Initialize the models\n",
    "model = tf.keras.layers.Dense(output_size, activation=\"sigmoid\")\n",
    "model.build(input_shape=(None, input_size))\n",
    "weights = model.get_weights()\n",
    "print(weights)\n",
    "custom_dense = Dense(in_features=input_size, out_features=output_size, load_weights=weights, activation=\"sigmoid\")"
   ]
  },
  {
   "cell_type": "code",
   "execution_count": 4,
   "metadata": {},
   "outputs": [
    {
     "name": "stdout",
     "output_type": "stream",
     "text": [
      "Forward pass output: (20, 3) [0.21098357 0.728575   0.5840468 ]\n",
      "Forward custom pass output : (20, 3) [0.21098359 0.72857493 0.5840468 ]\n"
     ]
    }
   ],
   "source": [
    "# Forward pass test\n",
    "y_pred = model(X)\n",
    "custom_y_pred = custom_dense(X)\n",
    "print(\"Forward pass output:\", y_pred.shape, y_pred[0].numpy())  # Expected shape: (batch_size, output_size)\n",
    "print(\"Forward custom pass output :\", custom_y_pred.shape, custom_y_pred[0])"
   ]
  },
  {
   "cell_type": "code",
   "execution_count": 5,
   "metadata": {},
   "outputs": [
    {
     "name": "stdout",
     "output_type": "stream",
     "text": [
      "Loss: 1.2588962\n",
      "Custom loss: 1.2588961\n"
     ]
    }
   ],
   "source": [
    "# Define a simple loss function\n",
    "loss_fn = tf.keras.losses.MeanSquaredError()\n",
    "\n",
    "# Compute the loss\n",
    "with tf.GradientTape() as tape:\n",
    "    y_pred = model(X)\n",
    "    loss = loss_fn(y, y_pred)\n",
    "\n",
    "print(\"Loss:\", loss.numpy())\n",
    "\n",
    "### custom\n",
    "custom_loss, custom_gradient = Loss()(custom_y_pred, y)\n",
    "print(\"Custom loss:\", custom_loss)"
   ]
  },
  {
   "cell_type": "code",
   "execution_count": 6,
   "metadata": {},
   "outputs": [
    {
     "name": "stdout",
     "output_type": "stream",
     "text": [
      "Gradients brute : [<tf.Tensor: shape=(4, 3), dtype=float32, numpy=\n",
      "array([[ 0.05768738,  0.0405526 , -0.00604385],\n",
      "       [-0.07270585,  0.0677229 , -0.02270087],\n",
      "       [ 0.03265507, -0.00989298,  0.03027873],\n",
      "       [-0.04756082,  0.04349323,  0.06124633]], dtype=float32)>, <tf.Tensor: shape=(3,), dtype=float32, numpy=array([0.04556761, 0.02427512, 0.05740745], dtype=float32)>]\n",
      "custom Gradients brute : [array([[ 0.01,  0.01, -0.01],\n",
      "       [-0.01,  0.01, -0.01],\n",
      "       [ 0.01, -0.01,  0.01],\n",
      "       [-0.01,  0.01,  0.01]], dtype=float32), array([0.01, 0.01, 0.01], dtype=float32)]\n"
     ]
    },
    {
     "data": {
      "text/plain": [
       "<tf.Variable 'UnreadVariable' shape=() dtype=int64, numpy=1>"
      ]
     },
     "execution_count": 6,
     "metadata": {},
     "output_type": "execute_result"
    }
   ],
   "source": [
    "# Backward pass test (compute gradients)\n",
    "_, custom_params_updates = custom_dense.backward(custom_gradient)\n",
    "custom_params_updates = Adam(lr=0.01)(custom_params_updates, 0, step=0, epoch=0)\n",
    "custom_dense.update_params(custom_params_updates)\n",
    "\n",
    "gradients = tape.gradient(loss, model.trainable_variables)\n",
    "print(\"Gradients brute :\", gradients)\n",
    "print(\"custom Gradients brute :\", custom_params_updates)\n",
    "\n",
    "# Optionally, perform a gradient update to check if loss decreases\n",
    "optimizer = tf.keras.optimizers.Adam(learning_rate=0.01)\n",
    "\n",
    "# Perform a single optimization step\n",
    "optimizer.apply_gradients(zip(gradients, model.trainable_variables))"
   ]
  },
  {
   "cell_type": "code",
   "execution_count": 7,
   "metadata": {},
   "outputs": [
    {
     "name": "stdout",
     "output_type": "stream",
     "text": [
      "New Loss: 1.2527087\n",
      "New custom Loss: 1.2527082\n"
     ]
    }
   ],
   "source": [
    "# Compute the loss again to check if it has decreased\n",
    "with tf.GradientTape() as tape:\n",
    "    y_pred = model(X)\n",
    "    new_loss = loss_fn(y, y_pred)\n",
    "\n",
    "custom_y_pred = custom_dense(X)\n",
    "new_custom_loss, _ = Loss()(custom_y_pred, y)\n",
    "\n",
    "print(\"New Loss:\", new_loss.numpy())\n",
    "print(\"New custom Loss:\", new_custom_loss)\n",
    "\n",
    "assert new_loss < loss, \"Loss did not decrease after gradient update\"\n",
    "assert new_custom_loss < custom_loss, \"Custom Loss did not decrease after gradient update\""
   ]
  }
 ],
 "metadata": {
  "kernelspec": {
   "display_name": "Python 3",
   "language": "python",
   "name": "python3"
  },
  "language_info": {
   "codemirror_mode": {
    "name": "ipython",
    "version": 3
   },
   "file_extension": ".py",
   "mimetype": "text/x-python",
   "name": "python",
   "nbconvert_exporter": "python",
   "pygments_lexer": "ipython3",
   "version": "3.10.0"
  }
 },
 "nbformat": 4,
 "nbformat_minor": 2
}
