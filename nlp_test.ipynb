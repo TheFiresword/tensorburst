{
 "cells": [
  {
   "cell_type": "code",
   "execution_count": 9,
   "metadata": {},
   "outputs": [],
   "source": [
    "from my_ai_utils import *\n",
    "\n",
    "import keras\n",
    "keras.__version__\n",
    "import tensorflow as tf\n",
    "from tensorflow.keras import layers, models, losses\n",
    "from keras.datasets import imdb\n",
    "from keras.utils.data_utils import pad_sequences \n",
    "import matplotlib.pyplot as plt"
   ]
  },
  {
   "cell_type": "code",
   "execution_count": 10,
   "metadata": {},
   "outputs": [
    {
     "name": "stdout",
     "output_type": "stream",
     "text": [
      "Loading data...\n",
      "(25000,) train sequences\n",
      "(25000,) test sequences\n",
      "Pad sequences (samples x time)\n",
      "input_train shape: (25000, 500)\n",
      "y shape: (25000,)\n",
      "1\n"
     ]
    }
   ],
   "source": [
    "max_features = 10000 # number of words to consider as features\n",
    "maxlen = 500  # cut texts after this number of words (among top max_features most common words)\n",
    "print('Loading data...')\n",
    "(input_train, y_train), (input_test, y_test) = imdb.load_data(num_words=max_features)\n",
    "print(input_train.shape, 'train sequences')\n",
    "print(input_test.shape, 'test sequences')\n",
    "print('Pad sequences (samples x time)')\n",
    "input_train = pad_sequences(input_train, maxlen=maxlen)\n",
    "input_test = pad_sequences(input_test, maxlen=maxlen)\n",
    "print('input_train shape:', input_train.shape)\n",
    "print('y shape:', y_train.shape)\n",
    "print(y_train[0])\n"
   ]
  },
  {
   "cell_type": "code",
   "execution_count": 11,
   "metadata": {},
   "outputs": [
    {
     "name": "stdout",
     "output_type": "stream",
     "text": [
      "Model: \"sequential_1\"\n",
      "_________________________________________________________________\n",
      " Layer (type)                Output Shape              Param #   \n",
      "=================================================================\n",
      " embedding_1 (Embedding)     (None, None, 8)           80000     \n",
      "                                                                 \n",
      " lstm_1 (LSTM)               (None, 4)                 208       \n",
      "                                                                 \n",
      " dense_1 (Dense)             (None, 1)                 5         \n",
      "                                                                 \n",
      "=================================================================\n",
      "Total params: 80,213\n",
      "Trainable params: 80,213\n",
      "Non-trainable params: 0\n",
      "_________________________________________________________________\n"
     ]
    }
   ],
   "source": [
    "model1 = models.Sequential()\n",
    "model1.add(layers.Embedding(max_features, 8))\n",
    "model1.add(layers.LSTM(4, activation=\"tanh\"))\n",
    "model1.add(layers.Dense(1, activation='sigmoid'))\n",
    "\n",
    "optimizer = tf.keras.optimizers.RMSprop(learning_rate=0.01)\n",
    "model1.compile(optimizer=optimizer, loss='binary_crossentropy', metrics=['acc'])\n",
    "model1.summary()"
   ]
  },
  {
   "cell_type": "code",
   "execution_count": 12,
   "metadata": {},
   "outputs": [
    {
     "name": "stdout",
     "output_type": "stream",
     "text": [
      "Model : 'sequential' \n",
      "________________________________________________________\n",
      "\n",
      "Layer (type)\t\t\t Params #\n",
      "========================================================\n",
      "\n",
      "embedding (Embedding)\t\t\t80000\n",
      "\n",
      "lstm (LSTM)\t\t\t208\n",
      "\n",
      "dense (Dense)\t\t\t5\n",
      "\n",
      "========================================================\n",
      "\n",
      "Total params: 80213\n",
      "\n",
      "\n"
     ]
    }
   ],
   "source": [
    "model2 = Sequential(usage=Usage.logisticRegression)\n",
    "model2.add_layer(Embedding(input_dim=max_features, output_dim=8, seq_length=maxlen))\n",
    "model2.add_layer(LSTM(in_features=8, hidden_features=4))\n",
    "model2.add_layer(Dense(in_features=4, out_features=1, activation=\"sigmoid\"))\n",
    "\n",
    "# learning_rate schedulers\n",
    "# lr = Warmup(target_lr=0.1, warm_steps=20)\n",
    "lr = CosineDecay(initial_lr=0.05, alpha=0.001, warmup=False, warmup_steps=100, hold_steps=200)\n",
    "# lr = ExponentialDecay(initial_lr=0.01, decay_rate=0.2, warmup=True, warmup_steps=5, hold_steps=5)\n",
    "\n",
    "model2.compile(loss_fn=Loss(\"binary_cross_entropy\"), optimizer=RMSprop(lr=lr))\n",
    "model2.summary()"
   ]
  },
  {
   "cell_type": "code",
   "execution_count": 13,
   "metadata": {},
   "outputs": [
    {
     "name": "stdout",
     "output_type": "stream",
     "text": [
      "Epoch 1/5\n",
      "196/196 [==============================] - 32s 151ms/step - loss: 0.5083 - acc: 0.7574 - val_loss: 0.4258 - val_acc: 0.8211\n",
      "Epoch 2/5\n",
      "196/196 [==============================] - 30s 154ms/step - loss: 0.3717 - acc: 0.8469 - val_loss: 0.2804 - val_acc: 0.8970\n",
      "Epoch 3/5\n",
      "196/196 [==============================] - 31s 160ms/step - loss: 0.3181 - acc: 0.8729 - val_loss: 0.3057 - val_acc: 0.8786\n",
      "Epoch 4/5\n",
      "196/196 [==============================] - 31s 158ms/step - loss: 0.2749 - acc: 0.8928 - val_loss: 0.2118 - val_acc: 0.9236\n",
      "Epoch 5/5\n",
      "196/196 [==============================] - 28s 144ms/step - loss: 0.2352 - acc: 0.9107 - val_loss: 0.2500 - val_acc: 0.8994\n"
     ]
    }
   ],
   "source": [
    "history = model1.fit(input_train, y_train, epochs=5, batch_size=128, validation_data=(input_train, y_train))"
   ]
  },
  {
   "cell_type": "code",
   "execution_count": 14,
   "metadata": {},
   "outputs": [
    {
     "name": "stdout",
     "output_type": "stream",
     "text": [
      "Training data dimensions:  (25000, 500)\n",
      "Epoch 1/5\n"
     ]
    },
    {
     "name": "stderr",
     "output_type": "stream",
     "text": [
      "100%|\u001b[32m██████████\u001b[0m| 196/196 [01:02<00:00,  3.12it/s, train_loss=0.481, val_loss=0.416, accuracy=0.833]\n"
     ]
    },
    {
     "name": "stdout",
     "output_type": "stream",
     "text": [
      "Epoch 2/5\n"
     ]
    },
    {
     "name": "stderr",
     "output_type": "stream",
     "text": [
      "100%|\u001b[32m██████████\u001b[0m| 196/196 [01:02<00:00,  3.13it/s, train_loss=0.4, val_loss=0.411, accuracy=0.812]\n"
     ]
    },
    {
     "name": "stdout",
     "output_type": "stream",
     "text": [
      "Epoch 3/5\n"
     ]
    },
    {
     "name": "stderr",
     "output_type": "stream",
     "text": [
      "100%|\u001b[32m██████████\u001b[0m| 196/196 [01:02<00:00,  3.16it/s, train_loss=0.486, val_loss=0.336, accuracy=0.859]\n"
     ]
    },
    {
     "name": "stdout",
     "output_type": "stream",
     "text": [
      "Epoch 4/5\n"
     ]
    },
    {
     "name": "stderr",
     "output_type": "stream",
     "text": [
      "100%|\u001b[32m██████████\u001b[0m| 196/196 [01:06<00:00,  2.94it/s, train_loss=0.215, val_loss=0.224, accuracy=0.913]\n"
     ]
    },
    {
     "name": "stdout",
     "output_type": "stream",
     "text": [
      "Epoch 5/5\n"
     ]
    },
    {
     "name": "stderr",
     "output_type": "stream",
     "text": [
      "100%|\u001b[32m██████████\u001b[0m| 196/196 [01:02<00:00,  3.11it/s, train_loss=0.145, val_loss=0.21, accuracy=0.918]\n"
     ]
    }
   ],
   "source": [
    "history = model2.train(input_train, y_train, nepochs=5, batch_size=128, validation_data=(input_train, y_train))"
   ]
  },
  {
   "cell_type": "code",
   "execution_count": 15,
   "metadata": {},
   "outputs": [
    {
     "name": "stdout",
     "output_type": "stream",
     "text": [
      " \u001b[32maccuracy: 0.84044 \u001b[0m \n"
     ]
    },
    {
     "data": {
      "image/png": "[encoded data removed]",
      "text/plain": [
       "<Figure size 640x480 with 2 Axes>"
      ]
     },
     "metadata": {},
     "output_type": "display_data"
    }
   ],
   "source": [
    "eval_metrics = model2.evaluate(input_test, y_test)"
   ]
  },
  {
   "cell_type": "code",
   "execution_count": 16,
   "metadata": {},
   "outputs": [
    {
     "name": "stdout",
     "output_type": "stream",
     "text": [
      "782/782 [==============================] - 22s 28ms/step\n",
      " \u001b[32maccuracy: 0.83836 \u001b[0m \n"
     ]
    },
    {
     "data": {
      "image/png": "[encoded data removed]",
      "text/plain": [
       "<Figure size 640x480 with 2 Axes>"
      ]
     },
     "metadata": {},
     "output_type": "display_data"
    },
    {
     "data": {
      "text/plain": [
       "<my_ai_utils.ConfusionMatrix at 0x2ac913fabc0>"
      ]
     },
     "execution_count": 16,
     "metadata": {},
     "output_type": "execute_result"
    }
   ],
   "source": [
    "y_pred = model1.predict(input_test)\n",
    "Accuracy(y_pred, y_test)\n",
    "ConfusionMatrix(y_pred, y_test, classes=[0, 1], usage=Usage.logisticRegression)"
   ]
  }
 ],
 "metadata": {
  "kernelspec": {
   "display_name": "Python 3",
   "language": "python",
   "name": "python3"
  },
  "language_info": {
   "codemirror_mode": {
    "name": "ipython",
    "version": 3
   },
   "file_extension": ".py",
   "mimetype": "text/x-python",
   "name": "python",
   "nbconvert_exporter": "python",
   "pygments_lexer": "ipython3",
   "version": "3.10.0"
  }
 },
 "nbformat": 4,
 "nbformat_minor": 2
}
