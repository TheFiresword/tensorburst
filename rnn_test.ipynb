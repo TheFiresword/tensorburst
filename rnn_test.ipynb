{
 "cells": [
  {
   "cell_type": "code",
   "execution_count": 22,
   "metadata": {},
   "outputs": [],
   "source": [
    "from my_ai_utils import *\n",
    "import tensorflow as tf"
   ]
  },
  {
   "cell_type": "code",
   "execution_count": 23,
   "metadata": {},
   "outputs": [],
   "source": [
    "# Example input data\n",
    "batch_size = 10\n",
    "sequence_length = 5\n",
    "input_size = 2\n",
    "hidden_size = 3\n",
    "\n",
    "X = np.random.randn(batch_size, sequence_length, input_size).astype(np.float32)\n",
    "y = np.random.randn(batch_size, hidden_size).astype(np.float32)"
   ]
  },
  {
   "cell_type": "code",
   "execution_count": 24,
   "metadata": {},
   "outputs": [],
   "source": [
    "# Initialize the models\n",
    "model = tf.keras.layers.SimpleRNN(hidden_size, return_sequences=False, return_state=False)\n",
    "model.build(input_shape=(None, sequence_length, input_size))\n",
    "weights = model.get_weights()\n",
    "custom_rnn = RNN(in_features=input_size, hidden_features=hidden_size, load_weights=weights)"
   ]
  },
  {
   "cell_type": "code",
   "execution_count": 25,
   "metadata": {},
   "outputs": [
    {
     "name": "stdout",
     "output_type": "stream",
     "text": [
      "Forward pass output: (10, 3) [-0.5800159   0.44675422  0.18310137]\n",
      "Forward custom pass output : (10, 3) [-0.58001593  0.44675418  0.18310154]\n"
     ]
    }
   ],
   "source": [
    "# Forward pass test\n",
    "y_pred = model(X)\n",
    "custom_y_pred = custom_rnn(X)\n",
    "print(\"Forward pass output:\", y_pred.shape, y_pred[0].numpy())  # Expected shape: (batch_size, output_size)\n",
    "print(\"Forward custom pass output :\", custom_y_pred.shape, custom_y_pred[0])"
   ]
  },
  {
   "cell_type": "code",
   "execution_count": 26,
   "metadata": {},
   "outputs": [
    {
     "name": "stdout",
     "output_type": "stream",
     "text": [
      "Loss: 1.0768744\n",
      "Custom loss: 1.0768744094994933\n"
     ]
    }
   ],
   "source": [
    "# Define a simple loss function\n",
    "loss_fn = tf.keras.losses.MeanSquaredError()\n",
    "\n",
    "# Compute the loss\n",
    "with tf.GradientTape() as tape:\n",
    "    y_pred = model(X)\n",
    "    loss = loss_fn(y, y_pred)\n",
    "\n",
    "print(\"Loss:\", loss.numpy())\n",
    "\n",
    "### custom\n",
    "custom_loss, custom_gradient = Loss()(custom_y_pred, y)\n",
    "print(\"Custom loss:\", custom_loss)"
   ]
  },
  {
   "cell_type": "code",
   "execution_count": 27,
   "metadata": {},
   "outputs": [
    {
     "name": "stdout",
     "output_type": "stream",
     "text": [
      "Gradients brute : [<tf.Tensor: shape=(2, 3), dtype=float32, numpy=\n",
      "array([[ 0.29230157,  0.22263588,  0.01095539],\n",
      "       [ 0.19331145, -0.05328811,  0.10942913]], dtype=float32)>, <tf.Tensor: shape=(3, 3), dtype=float32, numpy=\n",
      "array([[-0.10786482, -0.0412334 , -0.05851246],\n",
      "       [-0.20773971,  0.08068995, -0.05088274],\n",
      "       [-0.06287842,  0.05976132,  0.20142545]], dtype=float32)>, <tf.Tensor: shape=(3,), dtype=float32, numpy=array([ 0.2677182 , -0.06568459, -0.13104413], dtype=float32)>]\n",
      "custom Gradients brute : [array([[-0.01, -0.01, -0.01],\n",
      "       [-0.01,  0.01, -0.01],\n",
      "       [-0.01,  0.01,  0.01]]), array([[ 0.01,  0.01,  0.01],\n",
      "       [ 0.01, -0.01,  0.01]]), array([ 0.01, -0.01, -0.01])]\n"
     ]
    },
    {
     "data": {
      "text/plain": [
       "<tf.Variable 'UnreadVariable' shape=() dtype=int64, numpy=1>"
      ]
     },
     "execution_count": 27,
     "metadata": {},
     "output_type": "execute_result"
    }
   ],
   "source": [
    "_, custom_params_updates = custom_rnn.backward(custom_gradient)\n",
    "custom_params_updates = Adam(lr=0.01)(custom_params_updates, 0, step=0, epoch=0)\n",
    "custom_rnn.update_params(custom_params_updates)\n",
    "\n",
    "gradients = tape.gradient(loss, model.trainable_variables)\n",
    "print(\"Gradients brute :\", gradients)\n",
    "print(\"custom Gradients brute :\", custom_params_updates)\n",
    "\n",
    "# Optionally, perform a gradient update to check if loss decreases\n",
    "optimizer = tf.keras.optimizers.Adam(learning_rate=0.01)\n",
    "\n",
    "# Perform a single optimization step\n",
    "optimizer.apply_gradients(zip(gradients, model.trainable_variables))"
   ]
  },
  {
   "cell_type": "code",
   "execution_count": 28,
   "metadata": {},
   "outputs": [
    {
     "name": "stdout",
     "output_type": "stream",
     "text": [
      "New Loss: 1.0552164\n",
      "New custom Loss: 1.0552156639357473\n"
     ]
    }
   ],
   "source": [
    "# Compute the loss again to check if it has decreased\n",
    "with tf.GradientTape() as tape:\n",
    "    y_pred = model(X)\n",
    "    new_loss = loss_fn(y, y_pred)\n",
    "\n",
    "custom_y_pred = custom_rnn(X)\n",
    "new_custom_loss, _ = Loss()(custom_y_pred, y)\n",
    "\n",
    "print(\"New Loss:\", new_loss.numpy())\n",
    "print(\"New custom Loss:\", new_custom_loss)\n",
    "\n",
    "assert new_loss < loss, \"Loss did not decrease after gradient update\"\n",
    "assert new_custom_loss < custom_loss, \"Custom Loss did not decrease after gradient update\""
   ]
  }
 ],
 "metadata": {
  "kernelspec": {
   "display_name": "Python 3",
   "language": "python",
   "name": "python3"
  },
  "language_info": {
   "codemirror_mode": {
    "name": "ipython",
    "version": 3
   },
   "file_extension": ".py",
   "mimetype": "text/x-python",
   "name": "python",
   "nbconvert_exporter": "python",
   "pygments_lexer": "ipython3",
   "version": "3.10.0"
  }
 },
 "nbformat": 4,
 "nbformat_minor": 2
}
