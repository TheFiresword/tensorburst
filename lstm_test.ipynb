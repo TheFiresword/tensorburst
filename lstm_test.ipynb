{
 "cells": [
  {
   "cell_type": "code",
   "execution_count": 71,
   "metadata": {},
   "outputs": [],
   "source": [
    "from my_ai_utils import *\n",
    "import keras\n",
    "import tensorflow as tf"
   ]
  },
  {
   "cell_type": "code",
   "execution_count": 72,
   "metadata": {},
   "outputs": [],
   "source": [
    "# Example input data\n",
    "batch_size = 10\n",
    "sequence_length = 5\n",
    "input_size = 2\n",
    "hidden_size = 3\n",
    "\n",
    "X = np.random.randn(batch_size, sequence_length, input_size).astype(np.float32)\n",
    "y = np.random.randn(batch_size, hidden_size).astype(np.float32)"
   ]
  },
  {
   "cell_type": "code",
   "execution_count": 73,
   "metadata": {},
   "outputs": [],
   "source": [
    "# Initialize the models\n",
    "model = tf.keras.layers.LSTM(hidden_size, return_sequences=False, return_state=False)\n",
    "model.build(input_shape=(None, sequence_length, input_size))\n",
    "weights = model.get_weights()\n",
    "custom_lstm = LSTM(in_features=input_size, hidden_features=hidden_size, load_weights=weights)"
   ]
  },
  {
   "cell_type": "code",
   "execution_count": 74,
   "metadata": {},
   "outputs": [
    {
     "name": "stdout",
     "output_type": "stream",
     "text": [
      "Forward pass output: (10, 3) [ 0.08472192  0.52326137 -0.07848136]\n",
      "Forward custom pass output : (10, 3) [ 0.08472192  0.52326122 -0.07848134]\n"
     ]
    }
   ],
   "source": [
    "# Forward pass test\n",
    "y_pred = model(X)\n",
    "custom_y_pred = custom_lstm(X)\n",
    "print(\"Forward pass output:\", y_pred.shape, y_pred[0].numpy())  # Expected shape: (batch_size, output_size)\n",
    "print(\"Forward custom pass output :\", custom_y_pred.shape, custom_y_pred[0])"
   ]
  },
  {
   "cell_type": "code",
   "execution_count": 75,
   "metadata": {},
   "outputs": [
    {
     "name": "stdout",
     "output_type": "stream",
     "text": [
      "Loss: 1.6117493\n",
      "Custom loss: 1.6117494072131708\n"
     ]
    }
   ],
   "source": [
    "# Define a simple loss function\n",
    "loss_fn = tf.keras.losses.MeanSquaredError()\n",
    "\n",
    "# Compute the loss\n",
    "with tf.GradientTape() as tape:\n",
    "    y_pred = model(X)\n",
    "    loss = loss_fn(y, y_pred)\n",
    "\n",
    "print(\"Loss:\", loss.numpy())\n",
    "\n",
    "### custom\n",
    "custom_loss, custom_gradient = Loss()(custom_y_pred, y)\n",
    "print(\"Custom loss:\", custom_loss)"
   ]
  },
  {
   "cell_type": "code",
   "execution_count": 76,
   "metadata": {},
   "outputs": [
    {
     "data": {
      "text/plain": [
       "<tf.Variable 'UnreadVariable' shape=() dtype=int64, numpy=1>"
      ]
     },
     "execution_count": 76,
     "metadata": {},
     "output_type": "execute_result"
    }
   ],
   "source": [
    "_, custom_params_updates = custom_lstm.backward(custom_gradient)\n",
    "custom_params_updates = Optimizer(lr=0.01)(custom_params_updates, 0, step=0, epoch=0)\n",
    "custom_lstm.update_params(custom_params_updates)\n",
    "\n",
    "gradients = tape.gradient(loss, model.trainable_variables)\n",
    "# print(\"Gradients brute :\", gradients)\n",
    "# print(\"custom Gradients brute :\", custom_params_updates)\n",
    "\n",
    "# Optionally, perform a gradient update to check if loss decreases\n",
    "optimizer = tf.keras.optimizers.SGD(learning_rate=0.01)\n",
    "\n",
    "# Perform a single optimization step\n",
    "optimizer.apply_gradients(zip(gradients, model.trainable_variables))"
   ]
  },
  {
   "cell_type": "code",
   "execution_count": 77,
   "metadata": {},
   "outputs": [
    {
     "name": "stdout",
     "output_type": "stream",
     "text": [
      "New Loss: 1.6111672\n",
      "New custom Loss: 1.6101004530777707\n"
     ]
    }
   ],
   "source": [
    "# Compute the loss again to check if it has decreased\n",
    "with tf.GradientTape() as tape:\n",
    "    y_pred = model(X)\n",
    "    new_loss = loss_fn(y, y_pred)\n",
    "\n",
    "custom_y_pred = custom_lstm(X)\n",
    "new_custom_loss, _ = Loss()(custom_y_pred, y)\n",
    "\n",
    "print(\"New Loss:\", new_loss.numpy())\n",
    "print(\"New custom Loss:\", new_custom_loss)\n",
    "\n",
    "assert new_loss < loss, \"Loss did not decrease after gradient update\"\n",
    "assert new_custom_loss < custom_loss, \"Custom Loss did not decrease after gradient update\""
   ]
  }
 ],
 "metadata": {
  "kernelspec": {
   "display_name": "Python 3",
   "language": "python",
   "name": "python3"
  },
  "language_info": {
   "codemirror_mode": {
    "name": "ipython",
    "version": 3
   },
   "file_extension": ".py",
   "mimetype": "text/x-python",
   "name": "python",
   "nbconvert_exporter": "python",
   "pygments_lexer": "ipython3",
   "version": "3.10.0"
  }
 },
 "nbformat": 4,
 "nbformat_minor": 2
}
