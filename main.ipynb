{
 "cells": [
  {
   "cell_type": "code",
   "execution_count": 1,
   "metadata": {},
   "outputs": [],
   "source": [
    "from my_ai_utils import *\n",
    "import tensorflow as tf\n",
    "from tensorflow.keras import layers, models, losses"
   ]
  },
  {
   "cell_type": "code",
   "execution_count": 2,
   "metadata": {},
   "outputs": [],
   "source": [
    "#==== Test 2 : Simple regression =====#\n",
    "n = 2000\n",
    "m = 4\n",
    "input_dataset, y_dataset = np.random.random((n, 28, 28)), np.random.randint(0, 2, (n, 1))\n",
    "input_train, input_test = input_dataset[:1000], input_dataset[1000:]\n",
    "y_train, y_test = y_dataset[:1000], y_dataset[1000:]\n",
    "#y_train = tf.keras.utils.to_categorical(y_train, 10)"
   ]
  },
  {
   "cell_type": "code",
   "execution_count": 8,
   "metadata": {},
   "outputs": [
    {
     "name": "stdout",
     "output_type": "stream",
     "text": [
      "[[-0.06706873]\n",
      " [-0.13415605]\n",
      " [ 0.03434712]\n",
      " [ 0.01622419]\n",
      " [-0.10657538]\n",
      " [-0.20839721]\n",
      " [-0.16290289]\n",
      " [-0.07857879]\n",
      " [-0.18747891]\n",
      " [ 0.07660189]]\n"
     ]
    }
   ],
   "source": [
    "np.random.seed(42)\n",
    "model = models.Sequential([\n",
    "    layers.Flatten(input_shape=(28, 28)),\n",
    "    layers.Dense(128, activation='relu'),\n",
    "    layers.Dense(1, activation='sigmoid')\n",
    "])\n",
    "\n",
    "initial_weights = model.layers[2].get_weights()\n",
    "print(initial_weights[0][:10])\n",
    "optimizer = tf.keras.optimizers.SGD(learning_rate=0.01)\n",
    "model.compile(optimizer=optimizer, loss='mean_squared_error', metrics=['accuracy'])"
   ]
  },
  {
   "cell_type": "code",
   "execution_count": 9,
   "metadata": {},
   "outputs": [
    {
     "name": "stdout",
     "output_type": "stream",
     "text": [
      "[[-0.06706873]\n",
      " [-0.13415605]\n",
      " [ 0.03434712]\n",
      " [ 0.01622419]\n",
      " [-0.10657538]\n",
      " [-0.20839721]\n",
      " [-0.16290289]\n",
      " [-0.07857879]\n",
      " [-0.18747891]\n",
      " [ 0.07660189]]\n",
      "Training data dimensions:  (799, 28, 28)\n",
      "Epoch 1/10\n"
     ]
    },
    {
     "name": "stderr",
     "output_type": "stream",
     "text": [
      "  0%|\u001b[32m          \u001b[0m| 0/7 [00:00<?, ?it/s]"
     ]
    },
    {
     "name": "stderr",
     "output_type": "stream",
     "text": [
      "100%|\u001b[32m██████████\u001b[0m| 7/7 [00:00<00:00, 184.27it/s, train_loss=0.34, val_loss=0.282, accuracy=0.458]\n"
     ]
    },
    {
     "name": "stdout",
     "output_type": "stream",
     "text": [
      "Epoch 2/10\n"
     ]
    },
    {
     "name": "stderr",
     "output_type": "stream",
     "text": [
      "100%|\u001b[32m██████████\u001b[0m| 7/7 [00:00<00:00, 140.01it/s, train_loss=0.309, val_loss=0.266, accuracy=0.458]\n"
     ]
    },
    {
     "name": "stdout",
     "output_type": "stream",
     "text": [
      "Epoch 3/10\n"
     ]
    },
    {
     "name": "stderr",
     "output_type": "stream",
     "text": [
      "100%|\u001b[32m██████████\u001b[0m| 7/7 [00:00<00:00, 159.08it/s, train_loss=0.289, val_loss=0.258, accuracy=0.448]\n"
     ]
    },
    {
     "name": "stdout",
     "output_type": "stream",
     "text": [
      "Epoch 4/10\n"
     ]
    },
    {
     "name": "stderr",
     "output_type": "stream",
     "text": [
      "100%|\u001b[32m██████████\u001b[0m| 7/7 [00:00<00:00, 189.20it/s, train_loss=0.277, val_loss=0.254, accuracy=0.453]\n"
     ]
    },
    {
     "name": "stdout",
     "output_type": "stream",
     "text": [
      "Epoch 5/10\n"
     ]
    },
    {
     "name": "stderr",
     "output_type": "stream",
     "text": [
      "100%|\u001b[32m██████████\u001b[0m| 7/7 [00:00<00:00, 233.29it/s, train_loss=0.269, val_loss=0.252, accuracy=0.502]\n"
     ]
    },
    {
     "name": "stdout",
     "output_type": "stream",
     "text": [
      "Epoch 6/10\n"
     ]
    },
    {
     "name": "stderr",
     "output_type": "stream",
     "text": [
      "100%|\u001b[32m██████████\u001b[0m| 7/7 [00:00<00:00, 200.02it/s, train_loss=0.265, val_loss=0.251, accuracy=0.502]\n"
     ]
    },
    {
     "name": "stdout",
     "output_type": "stream",
     "text": [
      "Epoch 7/10\n"
     ]
    },
    {
     "name": "stderr",
     "output_type": "stream",
     "text": [
      "100%|\u001b[32m██████████\u001b[0m| 7/7 [00:00<00:00, 79.55it/s, train_loss=0.262, val_loss=0.251, accuracy=0.537]\n"
     ]
    },
    {
     "name": "stdout",
     "output_type": "stream",
     "text": [
      "Epoch 8/10\n"
     ]
    },
    {
     "name": "stderr",
     "output_type": "stream",
     "text": [
      "100%|\u001b[32m██████████\u001b[0m| 7/7 [00:00<00:00, 162.83it/s, train_loss=0.26, val_loss=0.25, accuracy=0.532]\n"
     ]
    },
    {
     "name": "stdout",
     "output_type": "stream",
     "text": [
      "Epoch 9/10\n"
     ]
    },
    {
     "name": "stderr",
     "output_type": "stream",
     "text": [
      "100%|\u001b[32m██████████\u001b[0m| 7/7 [00:00<00:00, 106.06it/s, train_loss=0.258, val_loss=0.25, accuracy=0.527]\n"
     ]
    },
    {
     "name": "stdout",
     "output_type": "stream",
     "text": [
      "Epoch 10/10\n"
     ]
    },
    {
     "name": "stderr",
     "output_type": "stream",
     "text": [
      "100%|\u001b[32m██████████\u001b[0m| 7/7 [00:00<00:00, 109.37it/s, train_loss=0.258, val_loss=0.25, accuracy=0.532]\n"
     ]
    },
    {
     "data": {
      "image/png": "[encoded data removed]",
      "text/plain": [
       "<Figure size 1000x500 with 2 Axes>"
      ]
     },
     "metadata": {},
     "output_type": "display_data"
    },
    {
     "name": "stdout",
     "output_type": "stream",
     "text": [
      "after [[-0.05901609]\n",
      " [-0.12714243]\n",
      " [ 0.04458561]\n",
      " [ 0.02676233]\n",
      " [-0.09452049]\n",
      " [-0.19719766]\n",
      " [-0.15604663]\n",
      " [-0.0702676 ]\n",
      " [-0.17945129]\n",
      " [ 0.08078485]]\n"
     ]
    }
   ],
   "source": [
    "np.random.seed(42)\n",
    "a = Sequential(usage=Usage.logisticRegression)\n",
    "a.add_layer(Flatten(input_shape=(28, 28)))\n",
    "a.add_layer(Dense(in_features=28*28, out_features=128, activation=\"sigmoid\", load_weights=model.layers[1].get_weights()))\n",
    "a.add_layer(Dense(in_features=128, out_features=1, activation=\"sigmoid\", load_weights=model.layers[2].get_weights()))\n",
    "a.compile(loss_fn=Loss(\"l2\"), learning_rate=0.01)\n",
    "#a.summary()\n",
    "print(a.layers[-1].kernel[:10])\n",
    "a.train(input_train, y_train, nepochs=10, batch_size=128)\n",
    "print(\"after\", a.layers[-1].kernel[:10])\n",
    "#a.evaluate(input_test, y_test)\n",
    "# Momentum(0.9, lr=0.01) - Adagrad(lr=0.01) - RMSprop(0.6, lr=0.01) - Adam(0.9, 0.999, lr=0.01)"
   ]
  },
  {
   "cell_type": "code",
   "execution_count": 11,
   "metadata": {},
   "outputs": [
    {
     "name": "stdout",
     "output_type": "stream",
     "text": [
      "Epoch 1/10\n",
      "8/8 [==============================] - 0s 3ms/step - loss: 0.2547 - accuracy: 0.4960\n",
      "Epoch 2/10\n",
      "8/8 [==============================] - 0s 3ms/step - loss: 0.2543 - accuracy: 0.4990\n",
      "Epoch 3/10\n",
      "8/8 [==============================] - 0s 3ms/step - loss: 0.2541 - accuracy: 0.4950\n",
      "Epoch 4/10\n",
      "8/8 [==============================] - 0s 3ms/step - loss: 0.2535 - accuracy: 0.4950\n",
      "Epoch 5/10\n",
      "8/8 [==============================] - 0s 3ms/step - loss: 0.2535 - accuracy: 0.5050\n",
      "Epoch 6/10\n",
      "8/8 [==============================] - 0s 3ms/step - loss: 0.2528 - accuracy: 0.5050\n",
      "Epoch 7/10\n",
      "8/8 [==============================] - 0s 3ms/step - loss: 0.2524 - accuracy: 0.5120\n",
      "Epoch 8/10\n",
      "8/8 [==============================] - 0s 3ms/step - loss: 0.2521 - accuracy: 0.5070\n",
      "Epoch 9/10\n",
      "8/8 [==============================] - 0s 3ms/step - loss: 0.2517 - accuracy: 0.5090\n",
      "Epoch 10/10\n",
      "8/8 [==============================] - 0s 2ms/step - loss: 0.2513 - accuracy: 0.5170\n",
      "after  [[-0.06496951]\n",
      " [-0.13436106]\n",
      " [ 0.03470937]\n",
      " [ 0.01257588]\n",
      " [-0.1103922 ]\n",
      " [-0.20385358]\n",
      " [-0.16345188]\n",
      " [-0.07864687]\n",
      " [-0.18559916]\n",
      " [ 0.07660189]]\n"
     ]
    }
   ],
   "source": [
    "history = model.fit(input_train, y_train, epochs=10, batch_size=128)\n",
    "print(\"after \", model.layers[2].get_weights()[0][:10])\n",
    "g='''\n",
    "[[-0.06496951]\n",
    " [-0.13436106]\n",
    " [ 0.03470937]\n",
    " [ 0.01257588]\n",
    " [-0.1103922 ]\n",
    " [-0.20385358]\n",
    " [-0.16345188]\n",
    " [-0.07864687]\n",
    " [-0.18559916]\n",
    " [ 0.07660189]]\n",
    "'''"
   ]
  }
 ],
 "metadata": {
  "kernelspec": {
   "display_name": "Python 3",
   "language": "python",
   "name": "python3"
  },
  "language_info": {
   "codemirror_mode": {
    "name": "ipython",
    "version": 3
   },
   "file_extension": ".py",
   "mimetype": "text/x-python",
   "name": "python",
   "nbconvert_exporter": "python",
   "pygments_lexer": "ipython3",
   "version": "3.10.0"
  }
 },
 "nbformat": 4,
 "nbformat_minor": 2
}
