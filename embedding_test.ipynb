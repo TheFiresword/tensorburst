{
 "cells": [
  {
   "cell_type": "code",
   "execution_count": 2,
   "metadata": {},
   "outputs": [],
   "source": [
    "from my_ai_utils import *"
   ]
  },
  {
   "cell_type": "code",
   "execution_count": 2,
   "metadata": {},
   "outputs": [],
   "source": [
    "# Define 10 restaurant reviews\n",
    "reviews =[\n",
    "          'Never coming back!',\n",
    "          'horrible service',\n",
    "          'rude waitress',\n",
    "          'cold food',\n",
    "          'horrible food!',\n",
    "          'awesome',\n",
    "          'awesome services!',\n",
    "          'rocks',\n",
    "          'poor work',\n",
    "          'couldn\\'t have done better'\n",
    "]\n",
    "#Define labels\n",
    "labels = np.array([1,1,1,1,1,0,0,0,0,0], dtype=object)"
   ]
  },
  {
   "cell_type": "code",
   "execution_count": 3,
   "metadata": {},
   "outputs": [
    {
     "name": "stdout",
     "output_type": "stream",
     "text": [
      "[[46, 39, 16], [15, 45], [34, 39], [7, 48], [15, 14], [19], [19, 46], [41], [43, 23], [38, 2, 7, 41]]\n"
     ]
    }
   ],
   "source": [
    "Vocab_size = 50\n",
    "encoded_reviews = Processing.one_hot_encode_text(reviews, 50)\n",
    "print(encoded_reviews)"
   ]
  },
  {
   "cell_type": "code",
   "execution_count": 4,
   "metadata": {},
   "outputs": [
    {
     "name": "stdout",
     "output_type": "stream",
     "text": [
      "[[36, 19, 7], [36, 19], [5, 24], [7, 37], [36, 37], [39], [39, 5], [33], [34, 34], [28, 33, 5, 27]]\n"
     ]
    }
   ],
   "source": [
    "from keras.preprocessing.text import one_hot\n",
    "encoded_reviews = [one_hot(d, 50) for d in reviews]\n",
    "print(encoded_reviews)"
   ]
  },
  {
   "cell_type": "code",
   "execution_count": 5,
   "metadata": {},
   "outputs": [
    {
     "name": "stdout",
     "output_type": "stream",
     "text": [
      "[[36 19  7  0]\n",
      " [36 19  0  0]\n",
      " [ 5 24  0  0]\n",
      " [ 7 37  0  0]\n",
      " [36 37  0  0]\n",
      " [39  0  0  0]\n",
      " [39  5  0  0]\n",
      " [33  0  0  0]\n",
      " [34 34  0  0]\n",
      " [28 33  5 27]]\n"
     ]
    }
   ],
   "source": [
    "from keras.utils.data_utils import pad_sequences \n",
    "padded_reviews = pad_sequences(encoded_reviews, maxlen=4, padding='post')\n",
    "print(padded_reviews)"
   ]
  },
  {
   "cell_type": "code",
   "execution_count": null,
   "metadata": {},
   "outputs": [],
   "source": [
    "model = Embedding(input_dim=Vocab_size, output_dim=8, seq_length=4)\n",
    "print(model(padded_reviews)[0, 0])\n",
    "dLoss_per_embedding = np.random.randn(10, 4, 8)\n",
    "model.backward(dLoss_per_embedding)"
   ]
  },
  {
   "cell_type": "code",
   "execution_count": 9,
   "metadata": {},
   "outputs": [
    {
     "name": "stdout",
     "output_type": "stream",
     "text": [
      "Mean: -0.004180233749999998\n",
      "Standard Deviation: 0.4999825250401532\n"
     ]
    },
    {
     "data": {
      "image/png": "[encoded data removed]",
      "text/plain": [
       "<Figure size 640x480 with 1 Axes>"
      ]
     },
     "metadata": {},
     "output_type": "display_data"
    }
   ],
   "source": [
    "import numpy as np\n",
    "import matplotlib.pyplot as plt\n",
    "\n",
    "# Data\n",
    "data = np.array([[-0.60284164, -0.13533432, -0.63581519,  0.46260742],\n",
    " [ 0.61120422, -0.36215602, -0.66659954 ,-0.225649  ],\n",
    " [-0.11843735,  0.79429795, -0.38665174, -0.45339143],\n",
    " [ 0.49898292 , 0.46863461, -0.04341115 , 0.72767652]])\n",
    "\n",
    "# Flatten the data\n",
    "flat_data = data.flatten()\n",
    "\n",
    "# Calculate descriptive statistics\n",
    "mean = np.mean(flat_data)\n",
    "std_dev = np.std(flat_data)\n",
    "\n",
    "print(\"Mean:\", mean)\n",
    "print(\"Standard Deviation:\", std_dev)\n",
    "\n",
    "# Plot the histogram\n",
    "plt.hist(flat_data, bins=10, edgecolor='black')\n",
    "plt.title('Histogram of Data Distribution')\n",
    "plt.xlabel('Value')\n",
    "plt.ylabel('Frequency')\n",
    "plt.show()\n"
   ]
  }
 ],
 "metadata": {
  "kernelspec": {
   "display_name": "Python 3",
   "language": "python",
   "name": "python3"
  },
  "language_info": {
   "codemirror_mode": {
    "name": "ipython",
    "version": 3
   },
   "file_extension": ".py",
   "mimetype": "text/x-python",
   "name": "python",
   "nbconvert_exporter": "python",
   "pygments_lexer": "ipython3",
   "version": "3.10.0"
  }
 },
 "nbformat": 4,
 "nbformat_minor": 2
}
