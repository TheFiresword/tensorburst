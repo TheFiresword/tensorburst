{
 "cells": [
  {
   "cell_type": "code",
   "execution_count": 1,
   "metadata": {},
   "outputs": [],
   "source": [
    "from my_ai_utils import *\n",
    "import tensorflow as tf\n",
    "from tensorflow.keras import layers, models, losses"
   ]
  },
  {
   "cell_type": "code",
   "execution_count": 2,
   "metadata": {},
   "outputs": [],
   "source": [
    "#==== Test 2 : Simple regression =====#\n",
    "n = 2000\n",
    "m = 4\n",
    "input_dataset, y_dataset = np.random.random((n, 28, 28)), np.random.randint(0, 2, (n, 1))\n",
    "input_train, input_test = input_dataset[:1000], input_dataset[1000:]\n",
    "y_train, y_test = y_dataset[:1000], y_dataset[1000:]\n",
    "#y_train = tf.keras.utils.to_categorical(y_train, 10)"
   ]
  },
  {
   "cell_type": "code",
   "execution_count": 3,
   "metadata": {},
   "outputs": [],
   "source": [
    "#==== Test 2 : Simple regression =====#\n",
    "n = 1000\n",
    "m = 4\n",
    "X = np.random.rand(n, m)\n",
    "#Y = 2*X + np.random.randn(n, 1)\n",
    "Y = np.reshape(2*X[:,0], (n, 1)) + np.random.randn(n, 1)*0.1\n",
    "\n",
    "# Momentum(0.9, lr=0.01) - Adagrad(lr=0.01) - RMSprop(0.6, lr=0.01) - Adam(0.9, 0.999, lr=0.01)"
   ]
  },
  {
   "cell_type": "code",
   "execution_count": 4,
   "metadata": {},
   "outputs": [],
   "source": [
    "a = Sequential(usage=Usage.regression)\n",
    "a.add_layer(Dense(in_features=m, out_features=2, activation=\"reLu\"))\n",
    "dense1_w = copy.deepcopy([a.layers[0].kernel, a.layers[0].biases])\n",
    "a.add_layer(Dense(in_features=2, out_features=1, activation=\"sigmoid\"))\n",
    "dense2_w = copy.deepcopy([a.layers[1].kernel, a.layers[1].biases])\n",
    "a.compile(loss_fn=Loss(\"l2\"), optimizer=RMSprop())"
   ]
  },
  {
   "cell_type": "code",
   "execution_count": 5,
   "metadata": {},
   "outputs": [],
   "source": [
    "model = models.Sequential([\n",
    "    layers.Dense(2, activation='relu'),\n",
    "    layers.Dense(1, activation='sigmoid')\n",
    "    ])\n",
    "model.build(input_shape=(None, m))\n",
    "optimizer = tf.keras.optimizers.RMSprop(learning_rate=0.01)\n",
    "model.compile(optimizer=optimizer, loss='mse')\n",
    "model.layers[0].set_weights(dense1_w)\n",
    "model.layers[1].set_weights(dense2_w)"
   ]
  },
  {
   "cell_type": "code",
   "execution_count": 6,
   "metadata": {},
   "outputs": [
    {
     "name": "stdout",
     "output_type": "stream",
     "text": [
      "Epoch 1/10\n",
      "32/32 [==============================] - 1s 7ms/step - loss: 0.3765 - val_loss: 0.3511\n",
      "Epoch 2/10\n",
      "32/32 [==============================] - 0s 3ms/step - loss: 0.3466 - val_loss: 0.3433\n",
      "Epoch 3/10\n",
      "32/32 [==============================] - 0s 3ms/step - loss: 0.3416 - val_loss: 0.3391\n",
      "Epoch 4/10\n",
      "32/32 [==============================] - 0s 3ms/step - loss: 0.3362 - val_loss: 0.3323\n",
      "Epoch 5/10\n",
      "32/32 [==============================] - 0s 3ms/step - loss: 0.3277 - val_loss: 0.3210\n",
      "Epoch 6/10\n",
      "32/32 [==============================] - 0s 3ms/step - loss: 0.3140 - val_loss: 0.3049\n",
      "Epoch 7/10\n",
      "32/32 [==============================] - 0s 3ms/step - loss: 0.2933 - val_loss: 0.2805\n",
      "Epoch 8/10\n",
      "32/32 [==============================] - 0s 3ms/step - loss: 0.2702 - val_loss: 0.2585\n",
      "Epoch 9/10\n",
      "32/32 [==============================] - 0s 3ms/step - loss: 0.2505 - val_loss: 0.2417\n",
      "Epoch 10/10\n",
      "32/32 [==============================] - 0s 3ms/step - loss: 0.2343 - val_loss: 0.2271\n"
     ]
    }
   ],
   "source": [
    "history = model.fit(X, Y, epochs=10, batch_size=32, validation_data=(X, Y))"
   ]
  },
  {
   "cell_type": "code",
   "execution_count": 7,
   "metadata": {},
   "outputs": [
    {
     "name": "stdout",
     "output_type": "stream",
     "text": [
      "Training data dimensions:  (1000, 4)\n",
      "Epoch 1/10\n"
     ]
    },
    {
     "name": "stderr",
     "output_type": "stream",
     "text": [
      "100%|\u001b[32m██████████\u001b[0m| 32/32 [00:00<00:00, 2666.12it/s, train_loss=0.26, val_loss=0.367]\n"
     ]
    },
    {
     "name": "stdout",
     "output_type": "stream",
     "text": [
      "Epoch 2/10\n"
     ]
    },
    {
     "name": "stderr",
     "output_type": "stream",
     "text": [
      "100%|\u001b[32m██████████\u001b[0m| 32/32 [00:00<00:00, 3197.49it/s, train_loss=0.285, val_loss=0.353]\n"
     ]
    },
    {
     "name": "stdout",
     "output_type": "stream",
     "text": [
      "Epoch 3/10\n"
     ]
    },
    {
     "name": "stderr",
     "output_type": "stream",
     "text": [
      "100%|\u001b[32m██████████\u001b[0m| 32/32 [00:00<00:00, 4569.89it/s, train_loss=0.288, val_loss=0.351]\n"
     ]
    },
    {
     "name": "stdout",
     "output_type": "stream",
     "text": [
      "Epoch 4/10\n"
     ]
    },
    {
     "name": "stderr",
     "output_type": "stream",
     "text": [
      "100%|\u001b[32m██████████\u001b[0m| 32/32 [00:00<00:00, 3556.28it/s, train_loss=0.278, val_loss=0.349]\n"
     ]
    },
    {
     "name": "stdout",
     "output_type": "stream",
     "text": [
      "Epoch 5/10\n"
     ]
    },
    {
     "name": "stderr",
     "output_type": "stream",
     "text": [
      "100%|\u001b[32m██████████\u001b[0m| 32/32 [00:00<00:00, 4000.17it/s, train_loss=0.261, val_loss=0.333]\n"
     ]
    },
    {
     "name": "stdout",
     "output_type": "stream",
     "text": [
      "Epoch 6/10\n"
     ]
    },
    {
     "name": "stderr",
     "output_type": "stream",
     "text": [
      "100%|\u001b[32m██████████\u001b[0m| 32/32 [00:00<00:00, 3999.34it/s, train_loss=0.237, val_loss=0.32]\n"
     ]
    },
    {
     "name": "stdout",
     "output_type": "stream",
     "text": [
      "Epoch 7/10\n"
     ]
    },
    {
     "name": "stderr",
     "output_type": "stream",
     "text": [
      "100%|\u001b[32m██████████\u001b[0m| 32/32 [00:00<00:00, 3199.55it/s, train_loss=0.206, val_loss=0.31]\n"
     ]
    },
    {
     "name": "stdout",
     "output_type": "stream",
     "text": [
      "Epoch 8/10\n"
     ]
    },
    {
     "name": "stderr",
     "output_type": "stream",
     "text": [
      "100%|\u001b[32m██████████\u001b[0m| 32/32 [00:00<00:00, 4006.14it/s, train_loss=0.168, val_loss=0.284]\n"
     ]
    },
    {
     "name": "stdout",
     "output_type": "stream",
     "text": [
      "Epoch 9/10\n"
     ]
    },
    {
     "name": "stderr",
     "output_type": "stream",
     "text": [
      "100%|\u001b[32m██████████\u001b[0m| 32/32 [00:00<00:00, 3559.77it/s, train_loss=0.132, val_loss=0.267]\n"
     ]
    },
    {
     "name": "stdout",
     "output_type": "stream",
     "text": [
      "Epoch 10/10\n"
     ]
    },
    {
     "name": "stderr",
     "output_type": "stream",
     "text": [
      "100%|\u001b[32m██████████\u001b[0m| 32/32 [00:00<00:00, 3998.26it/s, train_loss=0.108, val_loss=0.249]\n"
     ]
    }
   ],
   "source": [
    "a.train(X, Y, nepochs=10, batch_size=32, validation_data=(X, Y))"
   ]
  },
  {
   "cell_type": "code",
   "execution_count": 8,
   "metadata": {},
   "outputs": [
    {
     "name": "stdout",
     "output_type": "stream",
     "text": [
      "[[ 0.12278845]\n",
      " [ 0.10999119]\n",
      " [-0.0667467 ]\n",
      " [ 0.14126039]\n",
      " [-0.06880493]\n",
      " [ 0.08149382]\n",
      " [-0.07148176]\n",
      " [-0.02736965]\n",
      " [ 0.05527152]\n",
      " [-0.06912045]]\n",
      "Training data dimensions:  (799, 28, 28)\n",
      "Epoch 1/10\n"
     ]
    },
    {
     "name": "stderr",
     "output_type": "stream",
     "text": [
      "100%|\u001b[32m██████████\u001b[0m| 7/7 [00:00<00:00, 279.99it/s, train_loss=0.257, val_loss=0.249, accuracy=0.547]\n"
     ]
    },
    {
     "name": "stdout",
     "output_type": "stream",
     "text": [
      "Epoch 2/10\n"
     ]
    },
    {
     "name": "stderr",
     "output_type": "stream",
     "text": [
      "100%|\u001b[32m██████████\u001b[0m| 7/7 [00:00<00:00, 304.43it/s, train_loss=0.254, val_loss=0.25, accuracy=0.537]\n"
     ]
    },
    {
     "name": "stdout",
     "output_type": "stream",
     "text": [
      "Epoch 3/10\n"
     ]
    },
    {
     "name": "stderr",
     "output_type": "stream",
     "text": [
      "100%|\u001b[32m██████████\u001b[0m| 7/7 [00:00<00:00, 304.41it/s, train_loss=0.253, val_loss=0.251, accuracy=0.493]\n"
     ]
    },
    {
     "name": "stdout",
     "output_type": "stream",
     "text": [
      "Epoch 4/10\n"
     ]
    },
    {
     "name": "stderr",
     "output_type": "stream",
     "text": [
      "100%|\u001b[32m██████████\u001b[0m| 7/7 [00:00<00:00, 349.94it/s, train_loss=0.252, val_loss=0.251, accuracy=0.463]\n"
     ]
    },
    {
     "name": "stdout",
     "output_type": "stream",
     "text": [
      "Epoch 5/10\n"
     ]
    },
    {
     "name": "stderr",
     "output_type": "stream",
     "text": [
      "100%|\u001b[32m██████████\u001b[0m| 7/7 [00:00<00:00, 350.06it/s, train_loss=0.252, val_loss=0.252, accuracy=0.453]\n"
     ]
    },
    {
     "name": "stdout",
     "output_type": "stream",
     "text": [
      "Epoch 6/10\n"
     ]
    },
    {
     "name": "stderr",
     "output_type": "stream",
     "text": [
      "100%|\u001b[32m██████████\u001b[0m| 7/7 [00:00<00:00, 333.35it/s, train_loss=0.252, val_loss=0.252, accuracy=0.458]\n"
     ]
    },
    {
     "name": "stdout",
     "output_type": "stream",
     "text": [
      "Epoch 7/10\n"
     ]
    },
    {
     "name": "stderr",
     "output_type": "stream",
     "text": [
      "100%|\u001b[32m██████████\u001b[0m| 7/7 [00:00<00:00, 333.25it/s, train_loss=0.252, val_loss=0.252, accuracy=0.438]\n"
     ]
    },
    {
     "name": "stdout",
     "output_type": "stream",
     "text": [
      "Epoch 8/10\n"
     ]
    },
    {
     "name": "stderr",
     "output_type": "stream",
     "text": [
      "100%|\u001b[32m██████████\u001b[0m| 7/7 [00:00<00:00, 304.40it/s, train_loss=0.251, val_loss=0.253, accuracy=0.458]\n"
     ]
    },
    {
     "name": "stdout",
     "output_type": "stream",
     "text": [
      "Epoch 9/10\n"
     ]
    },
    {
     "name": "stderr",
     "output_type": "stream",
     "text": [
      "100%|\u001b[32m██████████\u001b[0m| 7/7 [00:00<00:00, 318.25it/s, train_loss=0.251, val_loss=0.253, accuracy=0.453]\n"
     ]
    },
    {
     "name": "stdout",
     "output_type": "stream",
     "text": [
      "Epoch 10/10\n"
     ]
    },
    {
     "name": "stderr",
     "output_type": "stream",
     "text": [
      "100%|\u001b[32m██████████\u001b[0m| 7/7 [00:00<00:00, 333.38it/s, train_loss=0.251, val_loss=0.253, accuracy=0.453]"
     ]
    },
    {
     "name": "stdout",
     "output_type": "stream",
     "text": [
      "after [[ 0.11762962]\n",
      " [ 0.10623556]\n",
      " [-0.06952854]\n",
      " [ 0.13732663]\n",
      " [-0.07071569]\n",
      " [ 0.07591854]\n",
      " [-0.07580996]\n",
      " [-0.03074161]\n",
      " [ 0.05034987]\n",
      " [-0.07226112]]\n"
     ]
    },
    {
     "name": "stderr",
     "output_type": "stream",
     "text": [
      "\n"
     ]
    }
   ],
   "source": [
    "a = Sequential(usage=Usage.logisticRegression)\n",
    "a.add_layer(Flatten(input_shape=(28, 28)))\n",
    "a.add_layer(Dense(in_features=28*28, out_features=128, activation=\"sigmoid\"))\n",
    "a.add_layer(Dense(in_features=128, out_features=1, activation=\"sigmoid\"))\n",
    "a.compile(loss_fn=Loss(\"l2\"), learning_rate=0.01)\n",
    "#a.summary()\n",
    "print(a.layers[-1].kernel[:10])\n",
    "a.train(input_train, y_train, nepochs=10, batch_size=128)\n",
    "print(\"after\", a.layers[-1].kernel[:10])\n",
    "#a.evaluate(input_test, y_test)\n",
    "# Momentum(0.9, lr=0.01) - Adagrad(lr=0.01) - RMSprop(0.6, lr=0.01) - Adam(0.9, 0.999, lr=0.01)"
   ]
  }
 ],
 "metadata": {
  "kernelspec": {
   "display_name": "Python 3",
   "language": "python",
   "name": "python3"
  },
  "language_info": {
   "codemirror_mode": {
    "name": "ipython",
    "version": 3
   },
   "file_extension": ".py",
   "mimetype": "text/x-python",
   "name": "python",
   "nbconvert_exporter": "python",
   "pygments_lexer": "ipython3",
   "version": "3.10.0"
  }
 },
 "nbformat": 4,
 "nbformat_minor": 2
}
